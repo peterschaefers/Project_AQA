{
 "cells": [
  {
   "cell_type": "code",
   "execution_count": 1,
   "metadata": {},
   "outputs": [],
   "source": [
    "import qiskit as qk\n",
    "import numpy as np"
   ]
  },
  {
   "cell_type": "code",
   "execution_count": 9,
   "metadata": {},
   "outputs": [],
   "source": [
    "num_qubits = 3\n",
    "\n",
    "def phi(x,qubit):\n",
    "    return 2*qubit*np.arccos(x)\n",
    "\n",
    "def phi_plus(x,qubit): \n",
    "    return 2*qubit*np.arccos(x) + np.pi/2\n",
    "\n",
    "def phi_min(x,qubit):\n",
    "    return 2*qubit*np.arccos(x) - np.pi/2"
   ]
  },
  {
   "cell_type": "code",
   "execution_count": 36,
   "metadata": {},
   "outputs": [
    {
     "name": "stdout",
     "output_type": "stream",
     "text": [
      "Adding U\n",
      "     ┌───────┐ \n",
      "q_0: ┤ Ry(0) ├─\n",
      "     ├───────┤ \n",
      "q_1: ┤ Ry(π) ├─\n",
      "     ├───────┴┐\n",
      "q_2: ┤ Ry(2π) ├\n",
      "     └────────┘\n"
     ]
    }
   ],
   "source": [
    "qc = qk.QuantumCircuit(num_qubits)\n",
    "\n",
    "#Create feature map\n",
    "def U(qc, x,num_qubits, label):\n",
    "    assert label <= 2*num_qubits, \"Label cannot be bigger than 2*num_qubits!\"\n",
    "\n",
    "    #Return U if label = 0\n",
    "    if label == 0:\n",
    "        print(\"Adding U\")\n",
    "        for i in range(num_qubits):\n",
    "            qc.ry(phi(x,i),i)\n",
    "\n",
    "    #Return U+ (for C+) if label in [1,num_qubits]\n",
    "    elif label >= 1 and label <= num_qubits:\n",
    "        print(\"Adding U+\")\n",
    "        for i in range(num_qubits):\n",
    "            if i == label-1:\n",
    "                print(\"phi+ at index \", i)\n",
    "                qc.ry(phi_plus(x,i),i)\n",
    "            else:\n",
    "                qc.ry(phi(x,i),i)\n",
    "\n",
    "    #Return U- (for C-) if label in [num_qubits+1,2*num_qubits]\n",
    "    else:\n",
    "        print(\"Adding U-\")\n",
    "        for i in range(num_qubits):\n",
    "            if i == label-num_qubits-1:\n",
    "                print(\"phi- at index \", i)\n",
    "                qc.ry(phi_min(x,i),i)\n",
    "            else:\n",
    "                qc.ry(phi(x,i),i)\n",
    "    return qc\n",
    "\n",
    "circuit = U(qc,0,num_qubits, 0)\n",
    "\n",
    "print(circuit)"
   ]
  },
  {
   "cell_type": "code",
   "execution_count": null,
   "metadata": {},
   "outputs": [],
   "source": []
  }
 ],
 "metadata": {
  "kernelspec": {
   "display_name": "AQA",
   "language": "python",
   "name": "python3"
  },
  "language_info": {
   "codemirror_mode": {
    "name": "ipython",
    "version": 3
   },
   "file_extension": ".py",
   "mimetype": "text/x-python",
   "name": "python",
   "nbconvert_exporter": "python",
   "pygments_lexer": "ipython3",
   "version": "3.10.12"
  }
 },
 "nbformat": 4,
 "nbformat_minor": 2
}
