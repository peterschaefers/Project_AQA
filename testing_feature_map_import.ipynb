{
 "cells": [
  {
   "cell_type": "code",
   "execution_count": 1,
   "metadata": {},
   "outputs": [],
   "source": [
    "import qiskit as qk\n",
    "from feature_map import *\n"
   ]
  },
  {
   "cell_type": "code",
   "execution_count": 6,
   "metadata": {},
   "outputs": [
    {
     "name": "stdout",
     "output_type": "stream",
     "text": [
      "     ┌───────┐ \n",
      "q_0: ┤ Ry(0) ├─\n",
      "     ├───────┤ \n",
      "q_1: ┤ Ry(π) ├─\n",
      "     ├───────┴┐\n",
      "q_2: ┤ Ry(2π) ├\n",
      "     └────────┘\n"
     ]
    }
   ],
   "source": [
    "num_qubits = 3\n",
    "qc = qk.QuantumCircuit(num_qubits)\n",
    "circuit = U(qc,0,num_qubits, 0)\n",
    "\n",
    "print(circuit)"
   ]
  },
  {
   "cell_type": "code",
   "execution_count": null,
   "metadata": {},
   "outputs": [],
   "source": []
  }
 ],
 "metadata": {
  "kernelspec": {
   "display_name": "AQA",
   "language": "python",
   "name": "python3"
  },
  "language_info": {
   "codemirror_mode": {
    "name": "ipython",
    "version": 3
   },
   "file_extension": ".py",
   "mimetype": "text/x-python",
   "name": "python",
   "nbconvert_exporter": "python",
   "pygments_lexer": "ipython3",
   "version": "3.10.12"
  }
 },
 "nbformat": 4,
 "nbformat_minor": 2
}
